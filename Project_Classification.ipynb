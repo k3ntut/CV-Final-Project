{
 "cells": [
  {
   "cell_type": "code",
   "execution_count": 16,
   "metadata": {},
   "outputs": [],
   "source": [
    "import os\n",
    "import cv2\n",
    "import numpy as np\n",
    "import matplotlib.pyplot as plt\n",
    "from sklearn.preprocessing import LabelEncoder\n",
    "from sklearn.ensemble import RandomForestClassifier\n",
    "from sklearn.metrics import classification_report, accuracy_score"
   ]
  },
  {
   "cell_type": "code",
   "execution_count": 17,
   "metadata": {},
   "outputs": [],
   "source": [
    "PATH = 'dataset/dataset_updated/training_set/'\n",
    "PATH_VALIDATION = 'dataset/dataset_updated/validation_set/'\n",
    "categories = ['drawings', 'engraving', 'iconography', 'painting', 'sculpture']"
   ]
  },
  {
   "cell_type": "code",
   "execution_count": 18,
   "metadata": {},
   "outputs": [],
   "source": [
    "def extract_features(folder_path, dataset, label):\n",
    "    sift = cv2.SIFT_create()\n",
    "    orb = cv2.ORB_create()\n",
    "\n",
    "    for image_name in os.listdir(folder_path):\n",
    "        image_path = f\"{folder_path}/{image_name}\"\n",
    "        image = cv2.imread(image_path)\n",
    "        if image is None:\n",
    "            continue\n",
    "        resized_image = cv2.resize(image, (224, 224))\n",
    "        gray_image = cv2.cvtColor(resized_image, cv2.COLOR_BGR2GRAY)\n",
    "\n",
    "        gray_image = cv2.cvtColor(resized_image, cv2.COLOR_BGR2GRAY)\n",
    "\n",
    "        blurred_image = cv2.GaussianBlur(gray_image, (5, 5), 0)\n",
    "\n",
    "        sobelx = cv2.Sobel(blurred_image, cv2.CV_64F, 1, 0, ksize=3)\n",
    "        sobely = cv2.Sobel(blurred_image, cv2.CV_64F, 0, 1, ksize=3)\n",
    "        sobel_edges = cv2.magnitude(sobelx, sobely).astype(np.uint8)\n",
    "\n",
    "        sift_keypoints, sift_descriptors = sift.detectAndCompute(sobel_edges, None)\n",
    "        orb_keypoints, orb_descriptors = orb.detectAndCompute(sobel_edges, None)\n",
    "\n",
    "        if sift_descriptors is not None and orb_descriptors is not None:\n",
    "            sift_mean = np.mean(sift_descriptors, axis=0)\n",
    "            orb_mean = np.mean(orb_descriptors, axis=0)\n",
    "            combined_features = np.hstack((sift_mean, orb_mean))\n",
    "            dataset.append((combined_features, label, image))"
   ]
  },
  {
   "cell_type": "code",
   "execution_count": 19,
   "metadata": {},
   "outputs": [],
   "source": [
    "train_features = []\n",
    "val_features = []\n",
    "\n",
    "for category in categories:\n",
    "    folder_path = f\"{PATH}/{category}\"\n",
    "    extract_features(folder_path, train_features, category)\n",
    "\n",
    "for category in categories:\n",
    "    folder_path = f\"{PATH_VALIDATION}/{category}\"\n",
    "    extract_features(folder_path, val_features, category)"
   ]
  },
  {
   "cell_type": "code",
   "execution_count": null,
   "metadata": {},
   "outputs": [],
   "source": [
    "X_train = [item[0] for item in train_features]\n",
    "y_train = [item[1] for item in train_features]\n",
    "\n",
    "X_val = [item[0] for item in val_features]\n",
    "y_val = [item[1] for item in val_features]\n",
    "images_val = [item[2] for item in val_features]\n",
    "\n",
    "le = LabelEncoder()\n",
    "y_train_encoded = le.fit_transform(y_train)\n",
    "y_val_encoded = le.transform(y_val)\n",
    "clf = RandomForestClassifier(n_estimators=50000, random_state=42)\n",
    "clf.fit(X_train, y_train_encoded)\n",
    "\n",
    "y_pred = clf.predict(X_val)\n",
    "\n",
    "print(\"Validation Classification Report:\")\n",
    "print(classification_report(y_val_encoded, y_pred, target_names=le.classes_))\n",
    "\n",
    "accuracy = accuracy_score(y_val_encoded, y_pred)\n",
    "print(f\"Validation Accuracy: {accuracy:.2f}\")"
   ]
  },
  {
   "cell_type": "code",
   "execution_count": null,
   "metadata": {},
   "outputs": [],
   "source": [
    "import pickle\n",
    "\n",
    "with open('model.pickle', 'wb') as file:\n",
    "    pickle.dump(clf, file)\n",
    "with open('label_encoder.pkl', 'wb') as file:\n",
    "    pickle.dump(le, file)"
   ]
  },
  {
   "cell_type": "code",
   "execution_count": null,
   "metadata": {},
   "outputs": [],
   "source": [
    "def display_all_validation_results(images, y_val, y_pred, le, items_per_page=10):\n",
    "    total_images = len(images)\n",
    "    pages = (total_images + items_per_page - 1) // items_per_page\n",
    "\n",
    "    for page in range(pages):\n",
    "        start_idx = page * items_per_page\n",
    "        end_idx = min(start_idx + items_per_page, total_images)\n",
    "\n",
    "        plt.figure(figsize=(15, 10))\n",
    "        for i, idx in enumerate(range(start_idx, end_idx)):\n",
    "            plt.subplot(2, items_per_page // 2, i + 1) \n",
    "            plt.imshow(cv2.cvtColor(images[idx], cv2.COLOR_BGR2RGB))\n",
    "            plt.axis('off')\n",
    "            true_label = le.inverse_transform([y_val[idx]])[0]\n",
    "            predicted_label = le.inverse_transform([y_pred[idx]])[0]\n",
    "            plt.title(f\"True: {true_label}\\nPred: {predicted_label}\")\n",
    "        plt.tight_layout()\n",
    "        plt.show()\n",
    "\n",
    "display_all_validation_results(images_val, y_val_encoded, y_pred, le, items_per_page=10)"
   ]
  },
  {
   "cell_type": "code",
   "execution_count": 22,
   "metadata": {},
   "outputs": [],
   "source": [
    "def visualize_keypoint_matches(image1, image2):\n",
    "    sift = cv2.SIFT_create()\n",
    "    \n",
    "    target1_grayscale = cv2.cvtColor(image1, cv2.COLOR_RGB2GRAY)\n",
    "    target1_object = cv2.GaussianBlur(target1_grayscale, (5, 5),0)\n",
    "    \n",
    "    target2_grayscale = cv2.cvtColor(image2, cv2.COLOR_RGB2GRAY)\n",
    "    target2_object = cv2.GaussianBlur(target2_grayscale, (5, 5),0)\n",
    "\n",
    "    kp1, des1 = sift.detectAndCompute(target1_object, None)\n",
    "    des1 = np.float32(des1)\n",
    "    kp2, des2 = sift.detectAndCompute(target2_object, None)\n",
    "    des2 = np.float32(des2)\n",
    "\n",
    "    flann = cv2.FlannBasedMatcher(dict(algorithm=1, trees=10), dict(checks=100))\n",
    "    matches = flann.knnMatch(des1, des2, k=2)  \n",
    "    matchesmask = [[0, 0] for _ in range(0, len(matches))]  \n",
    "\n",
    "    for i, (fm, sm) in enumerate(matches):\n",
    "        if fm.distance < 0.7 * sm.distance:\n",
    "            matchesmask[i] = [1, 0]\n",
    "    \n",
    "    best_matches_data = {  # Store the current best matching image and details\n",
    "            'image_data': image2,\n",
    "            'keypoint': kp2,\n",
    "            'descriptor': des2,\n",
    "            'match': matches,\n",
    "            'matchesmask': matchesmask\n",
    "        }\n",
    "    \n",
    "    result = cv2.drawMatchesKnn(\n",
    "        image1,\n",
    "        kp1,\n",
    "        best_matches_data['image_data'],\n",
    "        best_matches_data['keypoint'],\n",
    "        best_matches_data['match'],\n",
    "        None, \n",
    "        matchesMask = best_matches_data['matchesmask']\n",
    "        )\n",
    "\n",
    "    plt.figure(figsize=(12, 6))\n",
    "    plt.imshow(result)\n",
    "    plt.axis('off')\n",
    "    plt.title(\"Keypoints Matching\")\n",
    "    plt.show()"
   ]
  },
  {
   "cell_type": "code",
   "execution_count": 23,
   "metadata": {},
   "outputs": [],
   "source": [
    "sift = cv2.SIFT_create()\n",
    "orb = cv2.ORB_create()"
   ]
  },
  {
   "cell_type": "code",
   "execution_count": null,
   "metadata": {},
   "outputs": [],
   "source": [
    "target1 = cv2.imread('dataset/dataset_updated/local/drawings.jpeg')\n",
    "target2 = cv2.imread('dataset/dataset_updated/local/drawings2.jpeg')\n",
    "\n",
    "visualize_keypoint_matches(target1, target1)"
   ]
  },
  {
   "cell_type": "code",
   "execution_count": null,
   "metadata": {},
   "outputs": [],
   "source": []
  }
 ],
 "metadata": {
  "kernelspec": {
   "display_name": "Python 3",
   "language": "python",
   "name": "python3"
  },
  "language_info": {
   "codemirror_mode": {
    "name": "ipython",
    "version": 3
   },
   "file_extension": ".py",
   "mimetype": "text/x-python",
   "name": "python",
   "nbconvert_exporter": "python",
   "pygments_lexer": "ipython3",
   "version": "3.12.8"
  }
 },
 "nbformat": 4,
 "nbformat_minor": 2
}
