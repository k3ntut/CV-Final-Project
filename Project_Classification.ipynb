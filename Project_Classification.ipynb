{
 "cells": [
  {
   "cell_type": "code",
   "execution_count": 2,
   "metadata": {},
   "outputs": [],
   "source": [
    "import os\n",
    "import cv2\n",
    "import numpy as np\n",
    "import matplotlib.pyplot as plt\n",
    "from sklearn.preprocessing import LabelEncoder\n",
    "from sklearn.ensemble import RandomForestClassifier\n",
    "from sklearn.metrics import classification_report, accuracy_score"
   ]
  },
  {
   "cell_type": "code",
   "execution_count": 3,
   "metadata": {},
   "outputs": [],
   "source": [
    "PATH = 'dataset/dataset_updated/training_set/'\n",
    "PATH_VALIDATION = 'dataset/dataset_updated/validation_set/'\n",
    "categories = ['drawings', 'engraving', 'iconography', 'painting', 'sculpture']"
   ]
  },
  {
   "cell_type": "code",
   "execution_count": 4,
   "metadata": {},
   "outputs": [],
   "source": [
    "def extract_features(folder_path, dataset, label):\n",
    "    sift = cv2.SIFT_create()\n",
    "    orb = cv2.ORB_create()\n",
    "\n",
    "    for image_name in os.listdir(folder_path):\n",
    "        image_path = f\"{folder_path}/{image_name}\"\n",
    "        image = cv2.imread(image_path)\n",
    "        if image is None:\n",
    "            continue\n",
    "        gray_image = cv2.cvtColor(image, cv2.COLOR_BGR2GRAY)\n",
    "\n",
    "        blurred_image = cv2.GaussianBlur(gray_image, (5, 5), 0)\n",
    "\n",
    "        sobelx = cv2.Sobel(blurred_image, cv2.CV_64F, 1, 0, ksize=3)\n",
    "        sobely = cv2.Sobel(blurred_image, cv2.CV_64F, 0, 1, ksize=3)\n",
    "        sobel_edges = cv2.magnitude(sobelx, sobely).astype(np.uint8)\n",
    "\n",
    "        sift_keypoints, sift_descriptors = sift.detectAndCompute(sobel_edges, None)\n",
    "        orb_keypoints, orb_descriptors = orb.detectAndCompute(sobel_edges, None)\n",
    "\n",
    "        if sift_descriptors is not None and orb_descriptors is not None:\n",
    "            sift_mean = np.mean(sift_descriptors, axis=0)\n",
    "            orb_mean = np.mean(orb_descriptors, axis=0)\n",
    "            combined_features = np.hstack((sift_mean, orb_mean))\n",
    "            dataset.append((combined_features, label, image))"
   ]
  },
  {
   "cell_type": "code",
   "execution_count": 5,
   "metadata": {},
   "outputs": [],
   "source": [
    "def match_keypoints(descriptors1, descriptors2):\n",
    "    matcher = cv2.BFMatcher(cv2.NORM_L2, crossCheck=True)\n",
    "    matches = matcher.match(descriptors1, descriptors2)\n",
    "    matches = sorted(matches, key=lambda x: x.distance)\n",
    "    return matches\n"
   ]
  },
  {
   "cell_type": "code",
   "execution_count": null,
   "metadata": {},
   "outputs": [],
   "source": [
    "train_features = []\n",
    "val_features = []\n",
    "\n",
    "for category in categories:\n",
    "    folder_path = f\"{PATH}/{category}\"\n",
    "    extract_features(folder_path, train_features, category)\n",
    "\n",
    "for category in categories:\n",
    "    folder_path = f\"{PATH_VALIDATION}/{category}\"\n",
    "    extract_features(folder_path, val_features, category)"
   ]
  },
  {
   "cell_type": "code",
   "execution_count": null,
   "metadata": {},
   "outputs": [],
   "source": [
    "X_train = [item[0] for item in train_features]\n",
    "y_train = [item[1] for item in train_features]\n",
    "\n",
    "X_val = [item[0] for item in val_features]\n",
    "y_val = [item[1] for item in val_features]\n",
    "images_val = [item[2] for item in val_features]\n",
    "\n",
    "le = LabelEncoder()\n",
    "y_train_encoded = le.fit_transform(y_train)\n",
    "y_val_encoded = le.transform(y_val)\n",
    "\n",
    "clf = RandomForestClassifier(n_estimators=100, random_state=42)\n",
    "clf.fit(X_train, y_train_encoded)\n",
    "\n",
    "y_pred = clf.predict(X_val)\n",
    "\n",
    "print(\"Validation Classification Report:\")\n",
    "print(classification_report(y_val_encoded, y_pred, target_names=le.classes_))\n",
    "\n",
    "accuracy = accuracy_score(y_val_encoded, y_pred)\n",
    "print(f\"Validation Accuracy: {accuracy:.2f}\")"
   ]
  },
  {
   "cell_type": "code",
   "execution_count": null,
   "metadata": {},
   "outputs": [],
   "source": [
    "def display_all_validation_results(images, y_val, y_pred, le, items_per_page=10):\n",
    "    total_images = len(images)\n",
    "    pages = (total_images + items_per_page - 1) // items_per_page\n",
    "\n",
    "    for page in range(pages):\n",
    "        start_idx = page * items_per_page\n",
    "        end_idx = min(start_idx + items_per_page, total_images)\n",
    "\n",
    "        plt.figure(figsize=(15, 10))\n",
    "        for i, idx in enumerate(range(start_idx, end_idx)):\n",
    "            plt.subplot(2, items_per_page // 2, i + 1) \n",
    "            plt.imshow(cv2.cvtColor(images[idx], cv2.COLOR_BGR2RGB))\n",
    "            plt.axis('off')\n",
    "            true_label = le.inverse_transform([y_val[idx]])[0]\n",
    "            predicted_label = le.inverse_transform([y_pred[idx]])[0]\n",
    "            plt.title(f\"True: {true_label}\\nPred: {predicted_label}\")\n",
    "        plt.tight_layout()\n",
    "        plt.show()\n",
    "\n",
    "display_all_validation_results(images_val, y_val_encoded, y_pred, le, items_per_page=10)"
   ]
  },
  {
   "cell_type": "code",
   "execution_count": null,
   "metadata": {},
   "outputs": [],
   "source": [
    "def visualize_keypoint_matches(image1, image2, descriptors1, descriptors2):\n",
    "    sift = cv2.SIFT_create()\n",
    "    kp1, des1 = sift.detectAndCompute(image1, None)\n",
    "    kp2, des2 = sift.detectAndCompute(image2, None)\n",
    "\n",
    "    matches = match_keypoints(descriptors1, descriptors2)\n",
    "\n",
    "    match_image = cv2.drawMatches(image1, kp1, image2, kp2, matches[:10], None, flags=cv2.DrawMatchesFlags_NOT_DRAW_SINGLE_POINTS)\n",
    "    plt.figure(figsize=(12, 6))\n",
    "    plt.imshow(cv2.cvtColor(match_image, cv2.COLOR_BGR2RGB))\n",
    "    plt.axis('off')\n",
    "    plt.title(\"Keypoints Matching\")\n",
    "    plt.show()"
   ]
  }
 ],
 "metadata": {
  "kernelspec": {
   "display_name": "Python 3",
   "language": "python",
   "name": "python3"
  },
  "language_info": {
   "codemirror_mode": {
    "name": "ipython",
    "version": 3
   },
   "file_extension": ".py",
   "mimetype": "text/x-python",
   "name": "python",
   "nbconvert_exporter": "python",
   "pygments_lexer": "ipython3",
   "version": "3.12.7"
  }
 },
 "nbformat": 4,
 "nbformat_minor": 2
}
